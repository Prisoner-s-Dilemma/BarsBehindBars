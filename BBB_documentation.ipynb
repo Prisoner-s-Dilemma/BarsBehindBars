{
 "cells": [
  {
   "cell_type": "markdown",
   "id": "2c3026a1-dd08-4ebe-a6f6-1f169e8fd24d",
   "metadata": {},
   "source": [
    "# Bars Behind Bars - Documentation\n",
    "<a href=\"https://prisoner-s-dilemma.github.io/BarsBehindBars/\">Bars Behind Bars</a> is a project developed by Tommaso Battisti, Francesca Budel and Manu Srivastava for the final exam of the course <a href=\"https://www.unibo.it/it/didattica/insegnamenti/insegnamento/2022/424645\">\"Open Access and Digital Ethics\"</a> held by professor Monica Palmirani within the <a href=\"https://corsi.unibo.it/2cycle/DigitalHumanitiesKnowledge\">Digital Humanities and Digital Knowledge Master Degree</a> (University of Bologna), during the A.Y. 2022/2023."
   ]
  },
  {
   "cell_type": "markdown",
   "id": "1c216c88-b62d-479d-b760-ba9cc292d193",
   "metadata": {},
   "source": [
    "## Overview\n",
    "\n",
    "### Introduction\n",
    "Bars Behind Bars delves into the phenomenon of suicides in European prisons by taking into consideration judicial, social and governmental factors such as <b>perceived national corruption</b>, <b>living conditions in jail</b> and <b>the State expenditure in public order and safety</b>. \n",
    "<br>\n",
    "This project aims to highlight meaningful connections and compare similar values across <b>20 European countries</b> and during the span of <b> 5 years (2016 - 2020)</b>, in order to reflect upon the societal motivations behind deaths in prison. "
   ]
  },
  {
   "cell_type": "markdown",
   "id": "351d43aa-2b6a-4c72-abcc-d5cdf2e5aea3",
   "metadata": {},
   "source": [
    "### Scenario \n",
    "The datasets we chose to illustrate this complex and delicate topic come from two main authorities: \n",
    "<ul> \n",
    "    <li><a href=\"https://ec.europa.eu/eurostat/en/\"><b>Eurostat</b></a>, the statistical office of the European Union.</li> \n",
    "    <li><a href=\"https://dataunodc.un.org/\"><b>dataUNODC</b></a>, the United Nations Office of Drug and Crime, a specialized statistical apparatus of the United Nations. "
   ]
  },
  {
   "cell_type": "markdown",
   "id": "17c49bff-f268-4565-b2db-97846839f671",
   "metadata": {},
   "source": [
    "### Statement of responsability\n",
    "\n",
    "Team member | Task | Contact\n",
    "--- | --- | ---\n",
    "Tommaso Battisti | Project Ideation — Data retrieval — Technical analysis — Legal analysis — RDF assertion of the metadata — Website development | [contact](tommaso.battisti4@studio.unibo.it)\n",
    "Francesca Budel | Project ideation — Data retrieval — Ethical analysis — Legal analysis — Visualizations | [contact](francesca.budel@studio.unibo.it)\n",
    "Manu Srivastava | Project ideation — Mashup datasets — RDF assertion of the metadata — Website development | [contact](manu.srivastava2@studio.unibo.it)\n"
   ]
  },
  {
   "cell_type": "markdown",
   "id": "4f0de470-81ed-4970-b4d3-2ac98d562e6f",
   "metadata": {},
   "source": [
    "## Data retrieval and management \n",
    "\n",
    "Bars Behind Bars is based upon 6 source datasets (retrieved from the organizations cited above) and 5 mashup datasets (available on the project's official website), for a total of 11 complete datasets. \n",
    "\n",
    "After the downloads, data have been cleaned by deleting irrelevant entries, duplicates, and columns with non-useful charcaterizations. Thus, data have been mashed up with the aim of creating datasets specific for the purposes of this study, from which Visualisations and results are derived.\n",
    " \n",
    "### Source datasets \n",
    "\n",
    "Id | Dataset | Description (factor of interest) | Provenience | Format of download| Link / Path\n",
    "--- | --- | --- | --- | --- | --- \n",
    "SD1 | Mortality in Prison | SUICIDES | dataUNODC | .xlsx | [Link](https://dataunodc.un.org/dp-prisons-mortality)\n",
    "SD2 | Persons Held by Sentence Status | LIVING CONDITIONS | dataUNODC | .xlsx |  [Link](https://dataunodc.un.org/dp-prisons-persons-held)\n",
    "SD3 | Prisons Capacity and Number of Persons Held | LIVING CONDITIONS | Eurostat | .tsv | [Link](https://ec.europa.eu/eurostat/databrowser/view/crim_pris_cap/default/table?lang=en)\n",
    "SD4 |Perceived Independence of the Justice System | JUSTICE | Eurostat | .tsv |[Link](https://ec.europa.eu/eurostat/databrowser/view/sdg_16_40/default/table?lang=en)\n",
    "SD5 | Corruption Perception Index | JUSTICE | Eurostat | .tsv | [Link](https://ec.europa.eu/eurostat/databrowser/view/sdg_16_50/default/table?lang=en)\n",
    "SD6 |  General Government Expenditure by Function | JUSTICE | Eurostat | .tsv | [Link](https://ec.europa.eu/eurostat/databrowser/view/GOV_10A_EXP__custom_2158505/bookmark/table?lang=en&bookmarkId=9430f5c2-b2f0-4870-80f3-767e1705460b)"
   ]
  },
  {
   "cell_type": "markdown",
   "id": "d3f2f143-0a27-4af0-b9a1-0f19f7cd146f",
   "metadata": {},
   "source": [
    "### Mashup datasets \n",
    "\n",
    "Id | Dataset | Description (factor of interest) | Original source datasets \n",
    "--- | --- | --- | --- \n",
    "MUD1 | Deaths in Prison and Governments Expenditure in Justice | SUICIDES - JUSTICE | SD1, SD6\n",
    "MUD2 | Public Perception of Justice System and Corruption Rankings | JUSTICE (Public perception in %),  (Corruption ranking) | SD4, SD5 \n",
    "MUD3 | Deaths in Prison and Public Perception of the Justice System | SUICIDES - JUSTICE (Public perception in %)| SD1, SD4\n",
    "MUD4 | Deaths in Prison and Corruption Rankings | SUICIDES - JUSTICE (Corruption ranking)| SD1, SD4\n",
    "MUD5 | Deaths in Prison, Unsenteced Prisoners and Prisons' Population | SUICIDES - LIVING CONDITIONS | SD1, SD2, SD3 "
   ]
  },
  {
   "cell_type": "markdown",
   "id": "b276ccae-69cb-4ea8-8c5e-2f9500ecf1ab",
   "metadata": {},
   "source": [
    "## Datasets analyses \n",
    "\n",
    "### Quality analysis \n",
    "\n",
    "Data quality has been checked for each dataset with respect to four principles derived by the <a href=\"https://docs.italia.it/italia/daf/lg-patrimonio-pubblico/it/stabile/aspettiorg.html#qualita-dei-dati\"><b>Italian National Guidelines</b></a> for the Enhancement of the Public Information Asset.\n",
    "<ol> \n",
    "    <li><b>Completeness</b>, the datum is exhaustive with respect to every expected value and related\n",
    "        entity (sources) that contribute to the definition of the procedure.</li>\n",
    "    <li><b>Accuracy</b>, the datum and its attributes correctly represet the real value of the concept or\n",
    "        event it refers to.</li>\n",
    "    <li><b>Coherence</b>, the datum and its attributes are not contradictory with respect to other data \n",
    "        in the context of use by the administration owner.</li>\n",
    "    <li><b>Timeliness</b>, the datum and its attributes are up-to-date with respect to the procedure they\n",
    "        refer to.</li>\n",
    "</ol>\n"
   ]
  },
  {
   "cell_type": "markdown",
   "id": "296d1d22-3c1d-4f5f-9075-83c4dd710532",
   "metadata": {},
   "source": [
    "The following table summarises the quality of our datasets according to each value mentioned above. \n",
    "\n",
    "Id | Accuracy | Coherence | Completeness | Timeliness\n",
    "--- | --- | --- | --- | --- \n",
    "SD1 | Unsatisfied | Satisfied | Satisfied | Satisfied\n",
    "SD2 | Unsatisfied | Satisfied | Satisfied | Satisfied\n",
    "SD3 | Satisfied | Satisfied | Satisfied | Satisfied\n",
    "SD4 | Satisfied | Satisfied | Satisfied | Satisfied\n",
    "SD5 | Satisfied | Satisfied | Satisfied | Satisfied\n",
    "SD6 | Satisfied | Satisfied | Satisfied | Satisfied"
   ]
  },
  {
   "cell_type": "markdown",
   "id": "a01b092d-ad74-4841-8c1d-37708b1878b6",
   "metadata": {},
   "source": [
    "### Ethical Analysis \n",
    "\n",
    "Data processing has been performed with respect to the principles listed at the in Article 5 of the <a href=\"https://eur-lex.europa.eu/legal-content/EN/TXT/HTML/?uri=CELEX:32016R0679&from=EN#d1e1797-1-1\"><b>GDPR</b></a>. Data anonymization and privacy were already assured by the data sources. The data processing with respect of the project's purposes did not concern any risky or explicit datum that could lead to thr identification of specific subjects.<br> Given this premise, and the fact that data as provided by the source institutions already conformed to the principle of the GDPR, some important points need anyways to be made explicit.<br>\n",
    "\n",
    "<mark>Lawfulness, Fairness and Transparency</mark>: processing is necessary for the purposes of the legitimate interests pursued by this project. Such interest is not overridden by any fundamental rights and freedoms of the data subject whose protection of personal data has been already guaranteed by the data sources. All of the information about the project and its intents are reported here as wess as on <a href=\"https://github.com/Prisoner-s-Dilemma/BarsBehindBars\"><b>GitHub</b></a> where the processing is shown step by step in the different notebooks provided by the authors, guaranteeing both fairness and transparency.\n",
    "\n",
    "<mark>Purpose Limitation</mark>: the clear purpose of data processing, explicitly stated and respected throughout the whole processing phase, goes hand to hand with the lack of explicit personal information.\n",
    "\n",
    "<mark>Data Minimization</mark>: only information necessary to the achievement of the project's aims have been stored and processed. The processing itself had no intention to acquire and publish specific personal information. Quite the opposite: processing led to more generall information and Visualisations whit provide the user/readea with more general and not referable information.\n",
    "\n",
    "<mark>Accountability</mark>: the compliance with the principle of the GDPR is assured by the fact that data used have been gathered from already compliant sources. However, the authors of the project are responsible for this statement and able to demonstrate it.\n",
    "\n",
    "\n",
    "\n",
    "<ol> \n",
    "    <li><b>Eurostat</b>: According to the public declarations released by the European Commission, any activity proposed under its influence follows a strict process of review and assessment, called <b>“The Ethics Review”</b>. <br> This obviously applies also to Eurostat, which exists as statistical office of the European Union, and to all its released researches. Moreover, in Eurostat’s <a href=\"https://commission.europa.eu/privacy-policy-websites-managed-european-commission_en\"><b>“privacy policy”</b></a> page, the organization refers to the General data protection framework (GDPR) based on the <a href=\"https://eur-lex.europa.eu/eli/reg/2016/679/oj\"><b>Regulation (EU) 2016/679</b></a> and the <a href=\"https://eur-lex.europa.eu/legal-content/EN/TXT/?uri=CELEX%3A32018R1725&qid=1639056493137\"><b>Regulation (EU) 2018/1725</b></a>, that strengthens the rights of data subjects and the obligations of data controllers (organisations that collect and process the data). \n",
    "<br> The integration of microdata files to the released dataset also reduces the risk of respondents being identified: their identities remain, anyway, anonymous and the top priority of Eurostat’s data management and protection. <br> When it comes to biases or prejudices against sensitive themes, the states the <a href=\"https://eur-lex.europa.eu/legal-content/EN/ALL/?uri=CELEX%3A32009R0223#:~:text=%E2%80%98professional%20independence%E2%80%99%2C%20meaning,records%20or%20sources.\"><b>Regulation (EC) No 223/2009</b></a> of the European Parliament states the necessary statistical principles to respect.</li>\n",
    "    <li><b>United Nations - dataUNODC</b>: The <a href=\"https://unstats.un.org/unsd/methods/statorg/principles_stat_activities/principles_stat_activities.asp\"><b>“standards and methods”</b></a> page located on the official website of the United Nations, refers to a default anonymization, given both by the good ethical practices internationally estabilished and by the large geographical area covered by dataUNODC’s investigations.<br> The data gathered by dataUNODC is obtained from organisations, agencies and experts collaborating or recognized by the United Nations, and the integration of <b>microdata</b>, just like in the case of Eurostat, reassures an overall <b>transparency</b> and <b>lack of prejudice</b>.</li>\n",
    "    </ol> "
   ]
  },
  {
   "cell_type": "markdown",
   "id": "328e784e-0672-45ce-8b30-1dd2ca3ecff3",
   "metadata": {},
   "source": [
    "### Legal analysis \n",
    "In order to verify the legal aspects of the source datasets, the following topics are analysed in different tables: <b>privacy issues</b>, <b>IPR policy</b>, <b>licenses</b>, <b>limitations on public access</b>, <b>economical conditions</b>, <b>temporal aspects of the dataset</b>. <br> In particular, each table contain a checklist to assess the compliance with each different topic, as well as the datasets sustainibility from both a service-related and temporal point of view."
   ]
  },
  {
   "cell_type": "markdown",
   "id": "cb473d98-42bc-41f8-be37-9fb5e786ad84",
   "metadata": {},
   "source": [
    "#### Privacy Issues \n",
    "\n",
    "To check: | SD1 | SD2 | SD3 | SD4 | SD5 | SD6 | \n",
    "--- | --- | --- | --- | --- | --- | --- \n",
    "Is the dataset free of any personal data as defined in the Regulation (EU) 2016/679? | Yes | Yes | Yes | Yes | Yes | Yes  \n",
    "Is the dataset free of any indirect personal data that could be used for identifying the natural person? | Yes | Yes | Yes | Yes | Yes | Yes \n",
    "Is the dataset free of any particular personal data (art. 9 GDPR)? | Yes | Yes | Yes | Yes | Yes | Yes \n",
    "Is the dataset free of any information that combined with common data available in the web, could identify the person? | Yes | Yes | Yes | Yes | Yes | Yes \n",
    "Is the dataset free of any information related to human rights (e.g., refugees, witness protection, etc.) | Yes | Yes | Yes | Yes | Yes | Yes \n",
    "Did you use a tool for calculating the range of the risk of deanonymization? | Not needed | Not needed | Not needed | Not needed | Not needed | Not needed \n",
    "Are you using geolocalization capabilities? | No | No | No | No | No | No \n",
    "Did you check that the open data platform respect all the privacy regulations? | Yes | Yes | Yes | Yes | Yes | Yes \n",
    "Did you know who is, in your open data platform, the Controller and Processor of the privacy data of the system? | Yes | Yes | Yes | Yes | Yes | Yes \n",
    "Have you checked the privacy regulation of the country where the dataset are physically stored? | Yes | Yes | Yes | Yes | Yes | Yes \n",
    "Did you have non-personal data? | Yes | Yes | Yes | Yes | Yes | Yes \n",
    "Do you know who are in the open data platform the Controller and Processor of the privacy data of the system? | UN Privacy Policy Group | UN Privacy Policy Group | European Statistical System Committee | European Statistical System Committee | European Statistical System Committee | European Statistical System Committee\n",
    "Where the datasets are physically stored (country and jurisdiction)? | New York City, USA | New York City, USA | European Union | European Union | European Union | European Union"
   ]
  },
  {
   "cell_type": "markdown",
   "id": "5bf5e47d-bf91-434b-a1da-b25858a4e03f",
   "metadata": {},
   "source": [
    "#### Intellectual Property Rights \n",
    "\n",
    "To check: | SD1 | SD2 | SD3 | SD4 | SD5 | SD6 | \n",
    "--- | --- | --- | --- | --- | --- | --- \n",
    "Have you created and generated the dataset? | No | No | No | No | No | No \n",
    "Are you the owner of the dataset? | No | No | No | No | No | No \n",
    "Is the dataset free from third party licenses or patents? | Yes | Yes | Yes | Yes | Yes | Yes \n",
    "Have you checked if there are any limitations in your national legal system for releasing some kind of datasets with open license? | Yes | Yes | Yes | Yes | Yes | Yes \n",
    "\n",
    "#### Limitations On Public Access\n",
    "\n",
    "To check: | SD1 | SD2 | SD3 | SD4 | SD5 | SD6 | \n",
    "--- | --- | --- | --- | --- | --- | --- \n",
    "Did you check that the dataset concerns your institutional competences, scope and finality? | Yes | Yes | Yes | Yes | Yes | Yes \n",
    "Did you check the limitations for the publication stated by your national legislation or by the EU directives? | Yes | Yes | Yes | Yes | Yes | Yes \n",
    "Did you check if there are some limitations connected to the international relations, public security or national defence? | Yes | Yes | Yes | Yes | Yes | Yes \n",
    "Did you check if there are some limitations concerning the public interest? | Yes | Yes | Yes | Yes | Yes | Yes  \n",
    "Did you check the international law limitations? | Yes | Yes | Yes | Yes | Yes | Yes \n",
    "Did you check the INSPIRE law limitations for the spatial data? | Not Needed | Not Needed | Not Needed | Not Needed | Not Needed | Not Needed \n"
   ]
  },
  {
   "cell_type": "markdown",
   "id": "03decae1-d2eb-4351-9639-a6852c5ac9c9",
   "metadata": {},
   "source": [
    "#### Licenses \n",
    "\n",
    "To check: | SD1 | SD2 | SD3 | SD4 | SD5 | SD6 |\n",
    "--- | --- | --- | --- | --- | --- | --- \n",
    "Did you release the dataset with an open data licence? | No | No | Yes | Yes | Yes | Yes \n",
    "Did you include the clause: \"In any case the dataset can't be used for re-identifying the person\"? | No | No | No | No | No | No  \n",
    "Did you release the API (in case you have it) with an open source license? | No | No | Yes | Yes | Yes | Yes \n",
    "Have you checked that the open data/API platform licence regime is in compliance with your IPR policy? | Yes | Yes | Yes | Yes | Yes | Yes "
   ]
  },
  {
   "cell_type": "markdown",
   "id": "38daa278-25f5-4a6e-996a-16e4e3580af3",
   "metadata": {},
   "source": [
    "#### Economical conditions\n",
    "To check: | SD1 | SD2 | SD3 | SD4 | SD5 | SD6 | \n",
    "--- | --- | --- | --- | --- | --- | --- \n",
    "Did you check that the dataset could be released for free? | Yes | Yes | Yes | Yes | Yes | Yes  \n",
    "Did you check if there are some agreements with some other partners in order to release the dataset with a reasonable price? | Not needed | Not needed | Not needed | Not needed | Not needed | Not needed \n",
    "Did you check if the open data platform terms of service include a clause of \"non liability agreement\" regarding the dataset and API provided? | Yes | Yes | Yes | Yes | Yes | Yes \n",
    "In case you decide to release the dataset to a reasonable price did you check if the limitation imposed by the new directive 2019/1024/EU are respected? | Not needed | Not needed | Not needed | Not needed | Not needed | Not needed  \n",
    "In case you decide to release the dataset to a reasonable price did you check the e-Commerce directive and regulation? | Not needed | Not needed | Not needed | Not needed | Not needed | Not needed \n",
    "\n",
    "#### Temporary aspects\n",
    "To check: | SD1 | SD2 | SD3 | SD4 | SD5 | SD6 |\n",
    "--- | --- | --- | --- | --- | --- | --- \n",
    "Did you have a temporary policy for updating the dataset? | No | No | No | No | No | No \n",
    "Did you have some mechanism for informing the end-user that the dataset is updated at a given time to avoid mis-usage and so potential risk of damage? | Yes | Yes | Yes | Yes | Yes | Yes \n",
    "Did you check if the dataset for some reason cannot be indexed by the research engines (e.g., Google, Yahoo, etc.)? | Yes | Yes | Yes | Yes | Yes | Yes \n",
    "In case of personal data, do you have a reasonable technical mechanism for collecting request of deletion (e.g., right to be forgotten)? | Not needed | Not needed | Not needed | Not needed | Not needed | Not needed \n"
   ]
  },
  {
   "cell_type": "markdown",
   "id": "5475a9b9-4922-4e4c-8d2c-79b760ed10a7",
   "metadata": {},
   "source": [
    "### Technical analysis \n",
    "\n",
    "The technical analysis has been performed in order to highlight the main techincal characteristics of the datasets and their relation with the available metadata. In particular, what what concerns the latter, dataset have been evaluated with respect to the scale provided by the <a href=\"https://docs.italia.it/italia/daf/lg-patrimonio-pubblico/it/stabile/modellometadati.html\"><b>AGID metadata model</b></a>.\n",
    "\n",
    "<ol> \n",
    "    <li><mark><b>Level 1</b></mark>: No data-metadata bond or no metadata at all.</li>\n",
    "    <li><mark><b>Level 2</b> </mark>: Weak data-metadata bond because data are accompanied by external metadata referring to the whole dataset.</li>\n",
    "    <li><mark><b>Level 3</b></mark>: Strong data-metadata bond since data incorporate the describing metadata. Metadata still refer to the whole dataset.</li>\n",
    "    <li><mark><b>Level 4</b></mark>: Strong data-metadata bond since data incorporate the describing metadata. Metadata provide information abount the single datum, so with the maximum level of detail.</li>\n",
    "    </ol> \n",
    "\n",
    "\n",
    "\n",
    "Source datasets: Id | Source | URI | Format | Metadata | Licence \n",
    "--- | --- | --- | --- | --- | ---\n",
    "D1 | United Nations - dataUNODC | <a href=\"https://dataunodc.un.org/dp-prisons-mortality\"><b>DS1 - URI</b></a> | .xlsx | AGID - Level 2 | <a href=\"https://dataunodc.un.org/termsofuse\">Not explicit</a>\n",
    "D2 | United Nations - dataUNODC | <a href=\"https://dataunodc.un.org/dp-prisons-persons-held\"><b>DS2 - URI</b></a> | .xlsx | AGID - Level 2 | <a href=\"https://dataunodc.un.org/termsofuse\">Not explicit </a>\n",
    "D3 | Eurostat | <a href = \"https://ec.europa.eu/eurostat/databrowser/view/crim_pris_cap/default/table?lang=en\"><b>DS3 - URI</b></a> | .sdmx-csv, .tsv, .xlsx | AGID - Level 2, Level 3 and Level 4 | CC BY 4.0\n",
    "D4 | Eurostat | <a href=\"https://ec.europa.eu/eurostat/databrowser/view/sdg_16_40/default/table?lang=en\"><b>DS4 - URI</b></a> | .sdmx-csv, .tsv, .xlsx | AGID - Level 2, Level 3 and Level 4 | CC BY 4.0 \n",
    "D5 | Eurostat | <a href=\"https://ec.europa.eu/eurostat/databrowser/view/sdg_16_50/default/table?lang=en\"><b>DS5 - URI</b></a> | .sdmx-csv, .tsv, .xlsx | AGID - Level 2, Level 3 and Level 4 | CC BY 4.0 \n",
    "D6 | Eurostat | <a href=\"https://ec.europa.eu/eurostat/databrowser/view/GOV_10A_EXP__custom_2158505/bookmark/table?lang=en&bookmarkId=9430f5c2-b2f0-4870-80f3-767e1705460b\"><b>DS6 - URI</b></a> | .sdmx-csv, .tsv, .xlsx | AGID - Level 2, Level 3 and Level 4 | CC BY 4.0\n"
   ]
  },
  {
   "cell_type": "markdown",
   "id": "53b4bcc4-b79c-49b6-b974-547d15223ca0",
   "metadata": {},
   "source": [
    "## Project Sustainability \n",
    "\n",
    "### Bars Behind Bars \n",
    "This project has been developed for the \"Open Access and Digital Ethics\" course of the Digital Humanities and Digital Knowledge Master's Degree (University of Bologna, a.y. 2022/2023). <br> Given the purpose of the project, datasets and results will not be neither updated nor actively maintained in the future.\n",
    "<br> \n",
    "### Source datasets \n",
    "The source dataset from which Bars Behind Bars gathered the necessary data are maintained and updated by their proprietary intitutions. Therefore, for information about maintainance we invite the user to follow the links provided in the datasets description section."
   ]
  },
  {
   "cell_type": "markdown",
   "id": "ebe9a44c-8142-4052-a4f0-5e6926289c85",
   "metadata": {},
   "source": [
    "# Visualizations \n",
    "\n",
    "## Libraries \n",
    "To visualize the correlations we used the Python's library Plotly (<a href=\"https://github.com/plotly/plotly.js/blob/master/LICENSE\">MIT License</a>), while the rest of the visualizations were created with amcharts5 (<a href=\"https://github.com/amcharts/amcharts5/blob/master/packages/shared/LICENSE\">license</a>). "
   ]
  },
  {
   "cell_type": "markdown",
   "id": "2ca39f0d-95ea-448c-bb08-d9a72bb3f5c3",
   "metadata": {},
   "source": [
    "## Resources\n",
    "<ul>\n",
    "    <li>To generate new JSON files with the provided data or to download our datasets, go to this <a href=\"https://github.com/Prisoner-s-Dilemma/BarsBehindBars/blob/main/assets/data/processed_data/Mashup_datasets.ipynb\">folder</a>. </li>\n",
    "    <li>To inspect our visualizations' Javascript, go to this <a href=\"https://github.com/Prisoner-s-Dilemma/BarsBehindBars/tree/main/assets/scripts\">folder</a>.</li>\n",
    "</ul>"
   ]
  },
  {
   "cell_type": "markdown",
   "id": "5956d0a5-00d3-4e76-9f41-be19591f3e2f",
   "metadata": {},
   "source": [
    "# RDF Assertion of the metadata\n",
    "\n",
    "Following <a href=\"https://www.go-fair.org/fair-principles/\"><mark><b>FAIR principles</b></mark></a>, datasets, as well as their metadata, have been published in a machine readable format and following a common practice ine European datasets description for a better <b>findability</b>, <b>accessibility</b>, <b>interoperability</b>, and <b>reusability</b>.<br>Given the nature of the data and their European coverage, it has been chosen to employ the common European data model <a href=\"https://joinup.ec.europa.eu/collection/semantic-interoperability-community-semic/solution/dcat-application-profile-data-portals-europe/release/200\"><mark><b>DCAT_AP 2.0.0</b></mark></a> integrated by the use of <a href=\"https://www.w3.org/TR/prov-o/\"><mark><b>PROV-O</b></mark></a> for specifying the derivation of the entities (datasets) this project deals with.<br> We provided metadata for the catalogue of all the individual datasets derived from the cleaning process, for the mash-up dataset andfor the entire cataloge. Each dataset, the catalogue, and the website as well have been published under a Creative Commons license (<a href=\"https://creativecommons.org/licenses/by/4.0/deed.en\"><mark><b>CC-BY 4.0</b></mark></a>) following European Commission recommendations and best practices for the re-use of content and data."
   ]
  },
  {
   "cell_type": "markdown",
   "id": "c9e4ca0a-3676-4e34-aabc-bc92851bac90",
   "metadata": {},
   "source": [
    "You can find our metadata tables and RDF assertions on <a href=\"\"><b>Bars Behind Bars<b> website, and on our GitHub repository. "
   ]
  }
 ],
 "metadata": {
  "kernelspec": {
   "display_name": "Python 3 (ipykernel)",
   "language": "python",
   "name": "python3"
  },
  "language_info": {
   "codemirror_mode": {
    "name": "ipython",
    "version": 3
   },
   "file_extension": ".py",
   "mimetype": "text/x-python",
   "name": "python",
   "nbconvert_exporter": "python",
   "pygments_lexer": "ipython3",
   "version": "3.10.0"
  }
 },
 "nbformat": 4,
 "nbformat_minor": 5
}
